{
 "cells": [
  {
   "cell_type": "raw",
   "id": "60ba63970918ae21",
   "metadata": {},
   "source": [
    "INSPECTING THE DATA LOADED\n",
    "This is a Jupyter Notebook for Loading the data with the masks"
   ]
  },
  {
   "cell_type": "code",
   "execution_count": null,
   "id": "65ba875b558a3bd3",
   "metadata": {},
   "source": [
    "Import Statements"
   ],
   "outputs": []
  },
  {
   "cell_type": "code",
   "execution_count": 1,
   "id": "47709f73f46a35cb",
   "metadata": {
    "ExecuteTime": {
     "end_time": "2024-05-28T16:31:45.380342Z",
     "start_time": "2024-05-28T16:31:37.191314Z"
    },
    "scrolled": true
   },
   "source": [
    "import os\n",
    "import sys\n",
    "import json\n",
    "\n",
    "# Root directory of the project\n",
    "FILE_DIR = os.path.dirname(os.path.abspath(\"__file__\"))\n",
    "ROOT_DIR = os.path.join(FILE_DIR, \"..\", \"..\")\n",
    "sys.path.append(ROOT_DIR)\n",
    "\n",
    "from mrcnn.visualize import display_instances, display_top_masks\n",
    "from mrcnn.utils import extract_bboxes\n",
    "from MetricTrackingCode import MTrackingDataset\n",
    "\n"
   ],
   "outputs": []
  },
  {
   "cell_type": "markdown",
   "id": "780854baab8f1fc1",
   "metadata": {},
   "source": [
    "Loading the Data for Training and Validation"
   ]
  },
  {
   "cell_type": "code",
   "execution_count": 2,
   "id": "c7ca511861a94f3e",
   "metadata": {
    "ExecuteTime": {
     "end_time": "2024-05-28T16:31:57.213132Z",
     "start_time": "2024-05-28T16:31:57.181671Z"
    }
   },
   "source": [
    "dataset_train = MTrackingDataset()\n",
    "dataset_train.load_data(\"Dataset/train/labels/All_Annotations.json\",\"Dataset/train\")\n",
    "dataset_train.prepare()\n",
    "\n",
    "# dataset_val = MTracking()\n",
    "# dataset_val = load_data(\"Metric Tracking/Mask_RCNN/Dataset/train/labels/All_Annotations.json\",\"Mask_RCNN/Dataset/train\")\n",
    "# dataset_val.prepare()\n",
    "\n",
    "dataset = dataset_train\n",
    "image_ids = dataset.image_ids"
   ],
   "outputs": []
  },
  {
   "cell_type": "markdown",
   "id": "3da6fa733f043ba6",
   "metadata": {},
   "source": [
    "SHOWING THE ANNOTATIONS PER DATA ENTRY\n",
    "This will show the layers from the original image to the root layer, shoot layer, node layer, and the background of the image. Annotations are done thru maksense.ai and are exported in coco style format.\n"
   ]
  },
  {
   "cell_type": "code",
   "execution_count": 3,
   "id": "f7f0517e5a4ebe34",
   "metadata": {},
   "source": [
    "for image_id in image_ids:\n",
    "    image = dataset.load_image(image_id)\n",
    "    mask,class_ids = dataset.load_mask(image_id)\n",
    "    #Limit to a total number of classes (ROOT,SHOOT,NODE,BACKGROUND)\n",
    "    display_top_masks(image,mask,class_ids,dataset.class_names, limit=4)\n",
    "    break"
   ],
   "outputs": []
  },
  {
   "cell_type": "raw",
   "id": "319592b497ad958",
   "metadata": {},
   "source": [
    "SHOWING THE DATA WITH THE MASKS\n",
    "This will show a sample image of how the annotations will lay flat on the loaded image, together with the masks, and bounding box. Images are also padded for better processing"
   ]
  },
  {
   "cell_type": "code",
   "execution_count": 4,
   "id": "d905689a50ff0a49",
   "metadata": {},
   "source": [
    "image_id = 0\n",
    "image = dataset_train.load_image(image_id)\n",
    "mask,class_ids = dataset.load_mask(image_id)\n",
    "bbox = extract_bboxes(mask)\n",
    "display_instances(image,bbox,mask,class_ids,dataset_train.class_names)"
   ],
   "outputs": []
  },
  {
   "cell_type": "code",
   "execution_count": null,
   "id": "5148fbf5fe488012",
   "metadata": {},
   "source": [],
   "outputs": []
  }
 ],
 "metadata": {
  "kernelspec": {
   "display_name": "Python 3",
   "language": "python",
   "name": "python3"
  },
  "language_info": {
   "codemirror_mode": {
    "name": "ipython",
    "version": 3
   },
   "file_extension": ".py",
   "mimetype": "text/x-python",
   "name": "python",
   "nbconvert_exporter": "python",
   "pygments_lexer": "ipython3",
   "version": "3.8.10"
  }
 },
 "nbformat": 4,
 "nbformat_minor": 5
}
